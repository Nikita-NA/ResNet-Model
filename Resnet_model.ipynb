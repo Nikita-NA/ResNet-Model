{
  "cells": [
    {
      "cell_type": "markdown",
      "metadata": {},
      "source": [
        "ResNet Model 152"
      ]
    },
    {
      "cell_type": "code",
      "execution_count": 2,
      "metadata": {
        "colab": {
          "base_uri": "https://localhost:8080/"
        },
        "id": "3rbDkb-5ib-I",
        "outputId": "9f106fca-e5a1-4085-9aed-cbe637c1c51b"
      },
      "outputs": [
        {
          "name": "stderr",
          "output_type": "stream",
          "text": [
            "WARNING:tensorflow:From <ipython-input-2-56c17c7bf568>:3: is_gpu_available (from tensorflow.python.framework.test_util) is deprecated and will be removed in a future version.\n",
            "Instructions for updating:\n",
            "Use `tf.config.list_physical_devices('GPU')` instead.\n"
          ]
        },
        {
          "name": "stdout",
          "output_type": "stream",
          "text": [
            "GPU Available: True\n",
            "GPU Device Name: [PhysicalDevice(name='/physical_device:GPU:0', device_type='GPU')]\n"
          ]
        }
      ],
      "source": [
        "import tensorflow as tf\n",
        "\n",
        "print(\"GPU Available:\", tf.test.is_gpu_available())\n",
        "print(\"GPU Device Name:\", tf.config.list_physical_devices('GPU'))"
      ]
    },
    {
      "cell_type": "code",
      "execution_count": 3,
      "metadata": {
        "id": "MYek_9O7ib6C"
      },
      "outputs": [],
      "source": [
        "gpus = tf.config.experimental.list_physical_devices('GPU')\n",
        "if gpus:\n",
        "    try:\n",
        "        for gpu in gpus:\n",
        "            tf.config.experimental.set_memory_growth(gpu, True)\n",
        "    except RuntimeError as e:\n",
        "        print(e)\n"
      ]
    },
    {
      "cell_type": "markdown",
      "metadata": {
        "id": "3kTvaBWACgdx"
      },
      "source": [
        "Step 1: Setup & Load Dataset"
      ]
    },
    {
      "cell_type": "code",
      "execution_count": 4,
      "metadata": {
        "colab": {
          "base_uri": "https://localhost:8080/"
        },
        "id": "7mREi7XNibzA",
        "outputId": "856d96ba-9a3c-4b71-944e-e214d7b75b53"
      },
      "outputs": [
        {
          "name": "stdout",
          "output_type": "stream",
          "text": [
            "Extracted files: ['isic2020']\n"
          ]
        }
      ],
      "source": [
        "import os\n",
        "import zipfile\n",
        "\n",
        "# Define dataset path\n",
        "dataset_path = \"/content/isic2020.zip\"\n",
        "extract_path = \"/content/skin_dataset\"\n",
        "\n",
        "# Create directory if it doesn't exist\n",
        "if not os.path.exists(extract_path):\n",
        "    os.makedirs(extract_path)\n",
        "\n",
        "# Extract the dataset\n",
        "with zipfile.ZipFile(dataset_path, 'r') as zip_ref:\n",
        "    zip_ref.extractall(extract_path)\n",
        "\n",
        "# Check extracted files\n",
        "print(\"Extracted files:\", os.listdir(extract_path))\n"
      ]
    },
    {
      "cell_type": "code",
      "execution_count": 5,
      "metadata": {
        "colab": {
          "base_uri": "https://localhost:8080/"
        },
        "id": "EY5dUsD9D5ab",
        "outputId": "096562a3-c34a-406b-fae3-857e914f2bb3"
      },
      "outputs": [
        {
          "name": "stdout",
          "output_type": "stream",
          "text": [
            "Fixed dataset structure: ['.ipynb_checkpoints', 'test', 'train', 'train.csv', 'test.csv']\n"
          ]
        }
      ],
      "source": [
        "import shutil\n",
        "import os\n",
        "\n",
        "actual_path = \"/content/skin_dataset/isic2020\"\n",
        "\n",
        "# Create directory if it doesn't exist\n",
        "if not os.path.exists(extract_path):\n",
        "    os.makedirs(extract_path)\n",
        "\n",
        "# Move contents up\n",
        "for item in os.listdir(actual_path):\n",
        "    shutil.move(os.path.join(actual_path, item), extract_path)\n",
        "\n",
        "# Remove empty nested folder if it exists\n",
        "if os.path.exists(actual_path):\n",
        "    os.rmdir(actual_path)\n",
        "\n",
        "print(\"Fixed dataset structure:\", os.listdir(extract_path))\n"
      ]
    },
    {
      "cell_type": "code",
      "execution_count": 6,
      "metadata": {
        "colab": {
          "base_uri": "https://localhost:8080/"
        },
        "id": "YBJ5LKReFDhd",
        "outputId": "bb4f4cf4-c99f-4147-a283-041788cddf0b"
      },
      "outputs": [
        {
          "name": "stdout",
          "output_type": "stream",
          "text": [
            "Columns in the CSV file:\n",
            "Index(['image_name', 'patient_id', 'sex', 'age_approx',\n",
            "       'anatom_site_general_challenge', 'diagnosis', 'benign_malignant',\n",
            "       'target'],\n",
            "      dtype='object')\n"
          ]
        }
      ],
      "source": [
        "import pandas as pd\n",
        "import os\n",
        "\n",
        "# Path to the CSV file\n",
        "csv_path = \"/content/skin_dataset/train.csv\"\n",
        "\n",
        "# Check if the file exists before loading\n",
        "if os.path.exists(csv_path):\n",
        "    # Load CSV file\n",
        "    df = pd.read_csv(csv_path)\n",
        "\n",
        "    # Print column names\n",
        "    print(\"Columns in the CSV file:\")\n",
        "    print(df.columns)\n",
        "else:\n",
        "    print(\"CSV file not found at the specified path.\")\n"
      ]
    },
    {
      "cell_type": "markdown",
      "metadata": {
        "id": "VPTUmZjdHWs3"
      },
      "source": [
        "Step 2: Organizing the Dataset\n"
      ]
    },
    {
      "cell_type": "code",
      "execution_count": 7,
      "metadata": {
        "colab": {
          "base_uri": "https://localhost:8080/"
        },
        "id": "G45_ajH0HYif",
        "outputId": "beebe4d1-5137-4b9c-b66d-519cd0634de1"
      },
      "outputs": [
        {
          "name": "stdout",
          "output_type": "stream",
          "text": [
            "Images sorted into 'malignant' and 'benign' folders.\n"
          ]
        }
      ],
      "source": [
        "import os\n",
        "import pandas as pd\n",
        "import shutil\n",
        "\n",
        "# Define paths\n",
        "base_path = \"/content/skin_dataset\"\n",
        "train_csv_path = os.path.join(base_path, \"train.csv\")\n",
        "train_images_path = os.path.join(base_path, \"train\")\n",
        "\n",
        "# Load CSV\n",
        "df = pd.read_csv(train_csv_path)\n",
        "\n",
        "# Create directories for classification\n",
        "malignant_path = os.path.join(train_images_path, \"malignant\")\n",
        "benign_path = os.path.join(train_images_path, \"benign\")\n",
        "\n",
        "os.makedirs(malignant_path, exist_ok=True)\n",
        "os.makedirs(benign_path, exist_ok=True)\n",
        "\n",
        "# Move images to respective directories\n",
        "for _, row in df.iterrows():\n",
        "    image_name = row[\"image_name\"] + \".jpg\"  # Add .jpg extension\n",
        "    label = row[\"target\"]  # 1 for malignant, 0 for benign\n",
        "\n",
        "    src = os.path.join(train_images_path, image_name)\n",
        "    dest = os.path.join(malignant_path if label == 1 else benign_path, image_name)\n",
        "\n",
        "    if os.path.exists(src):  # Ensure file exists before moving\n",
        "        shutil.move(src, dest)\n",
        "\n",
        "print(\"Images sorted into 'malignant' and 'benign' folders.\")\n"
      ]
    },
    {
      "cell_type": "code",
      "execution_count": 8,
      "metadata": {
        "colab": {
          "base_uri": "https://localhost:8080/"
        },
        "id": "wOhAJQFaszfe",
        "outputId": "17ff58a7-b70c-4331-f867-d7656d71e05c"
      },
      "outputs": [
        {
          "name": "stdout",
          "output_type": "stream",
          "text": [
            "Test images sorted into 'malignant' and 'benign' folders.\n"
          ]
        }
      ],
      "source": [
        "import os\n",
        "import pandas as pd\n",
        "import shutil\n",
        "\n",
        "# Define paths\n",
        "base_path = \"/content/skin_dataset\"\n",
        "test_csv_path = os.path.join(base_path, \"test.csv\")\n",
        "test_images_path = os.path.join(base_path, \"test\")\n",
        "\n",
        "# Load CSV\n",
        "df = pd.read_csv(test_csv_path)\n",
        "\n",
        "# Create directories for classification (if not already created)\n",
        "malignant_path = os.path.join(test_images_path, \"malignant\")\n",
        "benign_path = os.path.join(test_images_path, \"benign\")\n",
        "\n",
        "os.makedirs(malignant_path, exist_ok=True)\n",
        "os.makedirs(benign_path, exist_ok=True)\n",
        "\n",
        "# Move images to respective directories\n",
        "for _, row in df.iterrows():\n",
        "    image_name = row[\"image_name\"] + \".jpg\"  # Add .jpg extension\n",
        "    label = row[\"target\"]  # 1 for malignant, 0 for benign\n",
        "\n",
        "    src = os.path.join(test_images_path, image_name)\n",
        "    dest = os.path.join(malignant_path if label == 1 else benign_path, image_name)\n",
        "\n",
        "    if os.path.exists(src):  # Ensure file exists before moving\n",
        "        shutil.move(src, dest)\n",
        "\n",
        "print(\"Test images sorted into 'malignant' and 'benign' folders.\")\n"
      ]
    },
    {
      "cell_type": "markdown",
      "metadata": {
        "id": "TiBkHQqRCiPv"
      },
      "source": [
        "Step 3: Preprocess Data & Custom Dataset Class"
      ]
    },
    {
      "cell_type": "code",
      "execution_count": 9,
      "metadata": {
        "colab": {
          "base_uri": "https://localhost:8080/"
        },
        "id": "-HQGpAIxIRax",
        "outputId": "1f32e531-87cc-41ce-9dcb-b692754409f2"
      },
      "outputs": [
        {
          "name": "stdout",
          "output_type": "stream",
          "text": [
            "Total images in dataset: 30519\n",
            "Sample image shape: torch.Size([3, 224, 224]), Label: 0\n"
          ]
        }
      ],
      "source": [
        "import torch\n",
        "from torch.utils.data import Dataset, DataLoader\n",
        "from torchvision import transforms\n",
        "from PIL import Image\n",
        "import os\n",
        "\n",
        "# Define transformations for data augmentation\n",
        "transform = transforms.Compose([\n",
        "    transforms.Resize((224, 224)),  # Resize to ResNet input size\n",
        "    transforms.ToTensor(),  # Convert image to tensor\n",
        "    transforms.Normalize(mean=[0.5], std=[0.5])  # Normalize\n",
        "])\n",
        "\n",
        "class SkinDataset(Dataset):\n",
        "    def __init__(self, root_dir, transform=None):\n",
        "        self.root_dir = root_dir\n",
        "        self.transform = transform\n",
        "        self.images = []\n",
        "        self.labels = []\n",
        "\n",
        "        # Load image paths and labels\n",
        "        for label, category in enumerate([\"benign\", \"malignant\"]):\n",
        "            category_path = os.path.join(root_dir, category)\n",
        "            for img_name in os.listdir(category_path):\n",
        "                img_path = os.path.join(category_path, img_name)\n",
        "                self.images.append(img_path)\n",
        "                self.labels.append(label)  # 0 for benign, 1 for malignant\n",
        "\n",
        "    def __len__(self):\n",
        "        return len(self.images)\n",
        "\n",
        "    def __getitem__(self, idx):\n",
        "        img_path = self.images[idx]\n",
        "        label = self.labels[idx]\n",
        "\n",
        "        # Load image\n",
        "        image = Image.open(img_path).convert(\"RGB\")  # Ensure 3 channels\n",
        "\n",
        "        # Apply transformations\n",
        "        if self.transform:\n",
        "            image = self.transform(image)\n",
        "\n",
        "        return image, torch.tensor(label, dtype=torch.long)\n",
        "\n",
        "# Initialize dataset\n",
        "train_dataset = SkinDataset(root_dir=\"/content/skin_dataset/train\", transform=transform)\n",
        "\n",
        "# Verify dataset\n",
        "print(f\"Total images in dataset: {len(train_dataset)}\")\n",
        "sample_img, sample_label = train_dataset[0]\n",
        "print(f\"Sample image shape: {sample_img.shape}, Label: {sample_label}\")\n"
      ]
    },
    {
      "cell_type": "markdown",
      "metadata": {
        "id": "dYQf_VnXIkLY"
      },
      "source": [
        "Step 4: Splitting Dataset into Train, Validation, and Test Sets"
      ]
    },
    {
      "cell_type": "code",
      "execution_count": 10,
      "metadata": {
        "colab": {
          "base_uri": "https://localhost:8080/"
        },
        "id": "H5dzJAbnIpRw",
        "outputId": "ebddd652-e733-4f57-a305-360b5bbfccdc"
      },
      "outputs": [
        {
          "name": "stdout",
          "output_type": "stream",
          "text": [
            "Train Set: 24415, Validation Set: 3051, Test Set: 3053\n"
          ]
        }
      ],
      "source": [
        "from torch.utils.data import random_split\n",
        "\n",
        "# Define dataset split sizes (80% train, 10% val, 10% test)\n",
        "train_size = int(0.8 * len(train_dataset))\n",
        "val_size = int(0.1 * len(train_dataset))\n",
        "test_size = len(train_dataset) - train_size - val_size  # Remaining for test\n",
        "\n",
        "# Split dataset\n",
        "train_set, val_set, test_set = random_split(train_dataset, [train_size, val_size, test_size])\n",
        "\n",
        "# Create DataLoaders for batch processing\n",
        "batch_size = 32\n",
        "\n",
        "train_loader = DataLoader(train_set, batch_size=batch_size, shuffle=True)\n",
        "val_loader = DataLoader(val_set, batch_size=batch_size, shuffle=False)\n",
        "test_loader = DataLoader(test_set, batch_size=batch_size, shuffle=False)\n",
        "\n",
        "# Verify sizes\n",
        "print(f\"Train Set: {len(train_set)}, Validation Set: {len(val_set)}, Test Set: {len(test_set)}\")\n"
      ]
    },
    {
      "cell_type": "markdown",
      "metadata": {
        "id": "DzDfgZbnClHG"
      },
      "source": [
        "Step 5: Define the Residual Bottleneck Block"
      ]
    },
    {
      "cell_type": "code",
      "execution_count": 11,
      "metadata": {
        "id": "ngKuRlMoKQR_"
      },
      "outputs": [],
      "source": [
        "import torch\n",
        "import torch.nn as nn\n",
        "\n",
        "class BottleneckBlock(nn.Module):\n",
        "    expansion = 4  # Increases channels at last 1x1 conv\n",
        "\n",
        "    def __init__(self, in_channels, out_channels, stride=1, downsample=None):\n",
        "        super(BottleneckBlock, self).__init__()\n",
        "\n",
        "        # 1x1 conv (Reduce dimensions)\n",
        "        self.conv1 = nn.Conv2d(in_channels, out_channels, kernel_size=1, bias=False)\n",
        "        self.bn1 = nn.BatchNorm2d(out_channels)\n",
        "\n",
        "        # 3x3 conv (Main feature extraction)\n",
        "        self.conv2 = nn.Conv2d(out_channels, out_channels, kernel_size=3, stride=stride, padding=1, bias=False)\n",
        "        self.bn2 = nn.BatchNorm2d(out_channels)\n",
        "\n",
        "        # 1x1 conv (Expand dimensions)\n",
        "        self.conv3 = nn.Conv2d(out_channels, out_channels * self.expansion, kernel_size=1, bias=False)\n",
        "        self.bn3 = nn.BatchNorm2d(out_channels * self.expansion)\n",
        "\n",
        "        # Activation function\n",
        "        self.relu = nn.ReLU(inplace=True)\n",
        "\n",
        "        # Skip connection (Identity Mapping)\n",
        "        self.downsample = downsample\n",
        "\n",
        "    def forward(self, x):\n",
        "        identity = x  # Save input for skip connection\n",
        "\n",
        "        out = self.conv1(x)\n",
        "        out = self.bn1(out)\n",
        "        out = self.relu(out)\n",
        "\n",
        "        out = self.conv2(out)\n",
        "        out = self.bn2(out)\n",
        "        out = self.relu(out)\n",
        "\n",
        "        out = self.conv3(out)\n",
        "        out = self.bn3(out)\n",
        "\n",
        "        # Apply skip connection\n",
        "        if self.downsample:\n",
        "            identity = self.downsample(x)  # Adjust shape if needed\n",
        "\n",
        "        out += identity  # Add skip connection\n",
        "        out = self.relu(out)  # Final activation\n",
        "\n",
        "        return out"
      ]
    },
    {
      "cell_type": "markdown",
      "metadata": {
        "id": "MwUNIrAHCthG"
      },
      "source": [
        "Step 6: Build Custom ResNet-152 Architecture"
      ]
    },
    {
      "cell_type": "code",
      "execution_count": 12,
      "metadata": {
        "id": "7T4_WMmJK4n5"
      },
      "outputs": [],
      "source": [
        "class ResNet152(nn.Module):\n",
        "    def __init__(self, num_classes=2):\n",
        "        super(ResNet152, self).__init__()\n",
        "\n",
        "        # Initial Conv Layer\n",
        "        self.conv1 = nn.Conv2d(3, 64, kernel_size=7, stride=2, padding=3, bias=False)\n",
        "        self.bn1 = nn.BatchNorm2d(64)\n",
        "        self.relu = nn.ReLU(inplace=True)\n",
        "        self.maxpool = nn.MaxPool2d(kernel_size=3, stride=2, padding=1)\n",
        "\n",
        "        # Residual layers\n",
        "        self.layer1 = self._make_layer(64, 64, 3)   # Conv2_x\n",
        "        self.layer2 = self._make_layer(256, 128, 8, stride=2)  # Conv3_x\n",
        "        self.layer3 = self._make_layer(512, 256, 36, stride=2)  # Conv4_x\n",
        "        self.layer4 = self._make_layer(1024, 512, 3, stride=2)  # Conv5_x\n",
        "\n",
        "        # Global Average Pool & Fully Connected Layer\n",
        "        self.avgpool = nn.AdaptiveAvgPool2d((1, 1))\n",
        "        self.fc = nn.Linear(2048, num_classes)  # Output classes\n",
        "\n",
        "    def _make_layer(self, in_channels, out_channels, blocks, stride=1):\n",
        "        \"\"\"Create a stack of bottleneck blocks\"\"\"\n",
        "        downsample = None\n",
        "\n",
        "        # If dimensions change, apply 1x1 conv in shortcut connection\n",
        "        if stride != 1 or in_channels != out_channels * BottleneckBlock.expansion:\n",
        "            downsample = nn.Sequential(\n",
        "                nn.Conv2d(in_channels, out_channels * BottleneckBlock.expansion,\n",
        "                          kernel_size=1, stride=stride, bias=False),\n",
        "                nn.BatchNorm2d(out_channels * BottleneckBlock.expansion)\n",
        "            )\n",
        "\n",
        "        layers = []\n",
        "        layers.append(BottleneckBlock(in_channels, out_channels, stride, downsample))  # First block\n",
        "        in_channels = out_channels * BottleneckBlock.expansion  # Update channels\n",
        "\n",
        "        for _ in range(1, blocks):  # Remaining blocks\n",
        "            layers.append(BottleneckBlock(in_channels, out_channels))\n",
        "\n",
        "        return nn.Sequential(*layers)\n",
        "\n",
        "    def forward(self, x):\n",
        "        x = self.conv1(x)\n",
        "        x = self.bn1(x)\n",
        "        x = self.relu(x)\n",
        "        x = self.maxpool(x)\n",
        "\n",
        "        x = self.layer1(x)\n",
        "        x = self.layer2(x)\n",
        "        x = self.layer3(x)\n",
        "        x = self.layer4(x)\n",
        "\n",
        "        x = self.avgpool(x)\n",
        "        x = torch.flatten(x, 1)\n",
        "        x = self.fc(x)\n",
        "\n",
        "        return x\n"
      ]
    },
    {
      "cell_type": "markdown",
      "metadata": {
        "id": "XIWZ2CrjCyip"
      },
      "source": [
        "Step 7: Train the Custom ResNet-152"
      ]
    },
    {
      "cell_type": "markdown",
      "metadata": {
        "id": "v920cwsxLQFH"
      },
      "source": [
        "Step 7.1: Load Pretrained Weights\n"
      ]
    },
    {
      "cell_type": "code",
      "execution_count": 13,
      "metadata": {
        "colab": {
          "base_uri": "https://localhost:8080/"
        },
        "id": "w8GKPig4LML-",
        "outputId": "c9cc51fe-0777-4be2-a522-4e0532a6a7ff"
      },
      "outputs": [
        {
          "name": "stderr",
          "output_type": "stream",
          "text": [
            "Downloading: \"https://download.pytorch.org/models/resnet152-394f9c45.pth\" to /root/.cache/torch/hub/checkpoints/resnet152-394f9c45.pth\n",
            "100%|██████████| 230M/230M [00:01<00:00, 167MB/s]\n"
          ]
        }
      ],
      "source": [
        "import torchvision.models as models\n",
        "\n",
        "# Load pretrained ResNet-152\n",
        "pretrained_resnet = models.resnet152(weights=models.ResNet152_Weights.IMAGENET1K_V1)\n",
        "\n",
        "# Modify the final fully connected layer for our dataset\n",
        "num_ftrs = pretrained_resnet.fc.in_features\n",
        "pretrained_resnet.fc = nn.Linear(num_ftrs, 2)  # Assuming 2 classes (Benign/Malignant)\n",
        "\n",
        "# Move to GPU if available\n",
        "device = torch.device(\"cuda\" if torch.cuda.is_available() else \"cpu\")\n",
        "pretrained_resnet = pretrained_resnet.to(device)\n"
      ]
    },
    {
      "cell_type": "markdown",
      "metadata": {
        "id": "PaciK8pMLV88"
      },
      "source": [
        "Step 7.2: Define Loss Function & Optimizer\n"
      ]
    },
    {
      "cell_type": "code",
      "execution_count": 14,
      "metadata": {
        "id": "NrIN38aSLZ4D"
      },
      "outputs": [],
      "source": [
        "import torch.optim as optim\n",
        "\n",
        "# Define loss function\n",
        "criterion = nn.CrossEntropyLoss()\n",
        "\n",
        "# Define optimizer\n",
        "optimizer = optim.Adam(pretrained_resnet.parameters(), lr=0.0001)\n"
      ]
    },
    {
      "cell_type": "markdown",
      "metadata": {
        "id": "ZgSW4Mj2LeY-"
      },
      "source": [
        "Step 7.3: Prepare Data Loaders\n"
      ]
    },
    {
      "cell_type": "code",
      "execution_count": 15,
      "metadata": {
        "id": "cdgY6yNqLf1p"
      },
      "outputs": [],
      "source": [
        "from torchvision import transforms, datasets\n",
        "\n",
        "# Define data transformations\n",
        "data_transforms = {\n",
        "    'train': transforms.Compose([\n",
        "        transforms.Resize((224, 224)),\n",
        "        transforms.RandomHorizontalFlip(),\n",
        "        transforms.ToTensor(),\n",
        "        transforms.Normalize([0.5, 0.5, 0.5], [0.5, 0.5, 0.5])  # Normalize to [-1,1]\n",
        "    ]),\n",
        "    'test': transforms.Compose([\n",
        "        transforms.Resize((224, 224)),\n",
        "        transforms.ToTensor(),\n",
        "        transforms.Normalize([0.5, 0.5, 0.5], [0.5, 0.5, 0.5])\n",
        "    ])\n",
        "}\n",
        "\n",
        "# Load datasets\n",
        "data_dir = \"/content/skin_dataset\"\n",
        "\n",
        "train_dataset = datasets.ImageFolder(root=f\"{data_dir}/train\", transform=data_transforms['train'])\n",
        "test_dataset = datasets.ImageFolder(root=f\"{data_dir}/test\", transform=data_transforms['test'])\n",
        "\n",
        "# Create data loaders\n",
        "train_loader = torch.utils.data.DataLoader(train_dataset, batch_size=32, shuffle=True)\n",
        "test_loader = torch.utils.data.DataLoader(test_dataset, batch_size=32, shuffle=False)\n"
      ]
    },
    {
      "cell_type": "markdown",
      "metadata": {
        "id": "XDfq85k3vgO6"
      },
      "source": [
        "Step 8: Train the Model"
      ]
    },
    {
      "cell_type": "code",
      "execution_count": 16,
      "metadata": {
        "id": "Euvs7aVSLf02"
      },
      "outputs": [],
      "source": [
        "import matplotlib.pyplot as plt\n",
        "\n",
        "def train_model_with_metrics(model, train_loader, criterion, optimizer, num_epochs=10):\n",
        "    train_losses = []\n",
        "    train_accuracies = []\n",
        "\n",
        "    for epoch in range(num_epochs):\n",
        "        model.train()\n",
        "        running_loss = 0.0\n",
        "        correct = 0\n",
        "        total = 0\n",
        "\n",
        "        for inputs, labels in train_loader:\n",
        "            inputs, labels = inputs.to(device), labels.to(device)\n",
        "\n",
        "            optimizer.zero_grad()\n",
        "            outputs = model(inputs)\n",
        "            loss = criterion(outputs, labels)\n",
        "            loss.backward()\n",
        "            optimizer.step()\n",
        "\n",
        "            running_loss += loss.item()\n",
        "            _, predicted = torch.max(outputs, 1)\n",
        "            correct += (predicted == labels).sum().item()\n",
        "            total += labels.size(0)\n",
        "\n",
        "        epoch_loss = running_loss / len(train_loader)\n",
        "        epoch_accuracy = correct / total\n",
        "\n",
        "        train_losses.append(epoch_loss)\n",
        "        train_accuracies.append(epoch_accuracy)\n",
        "\n",
        "        print(f\"Epoch {epoch+1}/{num_epochs}, Loss: {epoch_loss:.4f}, Accuracy: {epoch_accuracy:.4f}\")\n",
        "\n",
        "    return model, train_losses, train_accuracies\n"
      ]
    },
    {
      "cell_type": "code",
      "execution_count": 17,
      "metadata": {
        "id": "5iOTPzfZPk05"
      },
      "outputs": [],
      "source": [
        "def plot_training_curves(train_losses, train_accuracies):\n",
        "    epochs = range(1, len(train_losses) + 1)\n",
        "\n",
        "    plt.figure(figsize=(12, 5))\n",
        "\n",
        "    # Loss Curve\n",
        "    plt.subplot(1, 2, 1)\n",
        "    plt.plot(epochs, train_losses, marker='o', linestyle='-', color='r', label=\"Training Loss\")\n",
        "    plt.xlabel(\"Epochs\")\n",
        "    plt.ylabel(\"Loss\")\n",
        "    plt.title(\"Training Loss Curve\")\n",
        "    plt.legend()\n",
        "\n",
        "    # Accuracy Curve\n",
        "    plt.subplot(1, 2, 2)\n",
        "    plt.plot(epochs, train_accuracies, marker='o', linestyle='-', color='b', label=\"Training Accuracy\")\n",
        "    plt.xlabel(\"Epochs\")\n",
        "    plt.ylabel(\"Accuracy\")\n",
        "    plt.title(\"Training Accuracy Curve\")\n",
        "    plt.legend()\n",
        "\n",
        "    plt.show()\n"
      ]
    },
    {
      "cell_type": "code",
      "execution_count": 18,
      "metadata": {
        "colab": {
          "base_uri": "https://localhost:8080/",
          "height": 669
        },
        "id": "IjD4Y8savp5e",
        "outputId": "4b9b886d-918f-4c47-fbb2-30d889891c1d"
      },
      "outputs": [
        {
          "name": "stdout",
          "output_type": "stream",
          "text": [
            "Epoch 1/10, Loss: 0.0820, Accuracy: 0.9821\n",
            "Epoch 2/10, Loss: 0.0750, Accuracy: 0.9823\n",
            "Epoch 3/10, Loss: 0.0730, Accuracy: 0.9823\n",
            "Epoch 4/10, Loss: 0.0712, Accuracy: 0.9823\n",
            "Epoch 5/10, Loss: 0.0689, Accuracy: 0.9823\n",
            "Epoch 6/10, Loss: 0.0673, Accuracy: 0.9823\n",
            "Epoch 7/10, Loss: 0.0641, Accuracy: 0.9823\n",
            "Epoch 8/10, Loss: 0.0601, Accuracy: 0.9823\n",
            "Epoch 9/10, Loss: 0.0531, Accuracy: 0.9834\n",
            "Epoch 10/10, Loss: 0.0440, Accuracy: 0.9857\n"
          ]
        },
        {
          "data": {
            "image/png": "[encoded data removed]",
            "text/plain": [
              "<Figure size 1200x500 with 2 Axes>"
            ]
          },
          "metadata": {},
          "output_type": "display_data"
        }
      ],
      "source": [
        "# Train the model with metrics tracking\n",
        "trained_model, train_losses, train_accuracies = train_model_with_metrics(pretrained_resnet, train_loader, criterion, optimizer, num_epochs=10)\n",
        "\n",
        "# Plot training curves\n",
        "plot_training_curves(train_losses, train_accuracies)\n"
      ]
    },
    {
      "cell_type": "markdown",
      "metadata": {
        "id": "-3Vj191ZJvg1"
      },
      "source": [
        "Step 9: Evaluate the Model on the Test Set\n"
      ]
    },
    {
      "cell_type": "code",
      "execution_count": 19,
      "metadata": {
        "id": "oha-oqLZRbBK"
      },
      "outputs": [],
      "source": [
        "from sklearn.metrics import accuracy_score, precision_score, recall_score, f1_score\n",
        "\n",
        "def evaluate_model(model, test_loader):\n",
        "    model.eval()  # Set the model to evaluation mode\n",
        "    all_preds = []\n",
        "    all_labels = []\n",
        "\n",
        "    with torch.no_grad():  # Disable gradient computation\n",
        "        for inputs, labels in test_loader:\n",
        "            inputs, labels = inputs.to(device), labels.to(device)\n",
        "            outputs = model(inputs)\n",
        "            _, predicted = torch.max(outputs, 1)\n",
        "\n",
        "            all_preds.extend(predicted.cpu().numpy())\n",
        "            all_labels.extend(labels.cpu().numpy())\n",
        "\n",
        "    # Compute evaluation metrics\n",
        "    accuracy = accuracy_score(all_labels, all_preds)\n",
        "    precision = precision_score(all_labels, all_preds)\n",
        "    recall = recall_score(all_labels, all_preds)\n",
        "    f1 = f1_score(all_labels, all_preds)\n",
        "\n",
        "    print(f\"Test Accuracy: {accuracy:.4f}\")\n",
        "    print(f\"Precision: {precision:.4f}\")\n",
        "    print(f\"Recall: {recall:.4f}\")\n",
        "    print(f\"F1-score: {f1:.4f}\")\n",
        "\n",
        "    return accuracy, precision, recall, f1\n"
      ]
    },
    {
      "cell_type": "code",
      "execution_count": 20,
      "metadata": {
        "colab": {
          "base_uri": "https://localhost:8080/"
        },
        "id": "-Y0BIRmjJ0KC",
        "outputId": "2d4e9d1c-4559-4684-ecac-86d37537b820"
      },
      "outputs": [
        {
          "name": "stdout",
          "output_type": "stream",
          "text": [
            "Test Accuracy: 0.9812\n",
            "Precision: 0.4286\n",
            "Recall: 0.0750\n",
            "F1-score: 0.1277\n"
          ]
        },
        {
          "data": {
            "text/plain": [
              "(0.9812098991750687, 0.42857142857142855, 0.075, 0.1276595744680851)"
            ]
          },
          "execution_count": 20,
          "metadata": {},
          "output_type": "execute_result"
        }
      ],
      "source": [
        "evaluate_model(pretrained_resnet, test_loader)"
      ]
    },
    {
      "cell_type": "code",
      "execution_count": null,
      "metadata": {},
      "outputs": [],
      "source": []
    }
  ],
  "metadata": {
    "accelerator": "GPU",
    "colab": {
      "gpuType": "T4",
      "provenance": []
    },
    "kernelspec": {
      "display_name": "Python 3",
      "name": "python3"
    },
    "language_info": {
      "name": "python"
    }
  },
  "nbformat": 4,
  "nbformat_minor": 0
}
